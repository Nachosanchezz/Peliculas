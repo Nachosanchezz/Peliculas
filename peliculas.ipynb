{
 "cells": [
  {
   "attachments": {},
   "cell_type": "markdown",
   "metadata": {},
   "source": [
    "IMPORTAMOS LAS LIBRERÍAS NECESARIAS"
   ]
  },
  {
   "cell_type": "code",
   "execution_count": null,
   "metadata": {},
   "outputs": [],
   "source": [
    "import pandas as pd\n",
    "import numpy as np\n",
    "import matplotlib.pyplot as plt\n",
    "import seaborn as sns\n",
    "print(\"Se han importado las librerias necesarias\")"
   ]
  },
  {
   "attachments": {},
   "cell_type": "markdown",
   "metadata": {},
   "source": [
    "Creamos el DataFrame, añadiendo los datos de opinión y la cantidad de votantes."
   ]
  },
  {
   "cell_type": "code",
   "execution_count": null,
   "metadata": {},
   "outputs": [],
   "source": [
    "df_peliculas = pd.DataFrame({\"Opinión (Xi)\":np.array([5, 4, 3, 2, 1, 0]), \"Cantidad de votantes(Ni)\":np.array([40, 99, 145, 133, 96, 40])})   # Cada array es una columna.\n",
    "df_peliculas.head()    # El .head() para mostrar las primeras filas."
   ]
  },
  {
   "attachments": {},
   "cell_type": "markdown",
   "metadata": {},
   "source": [
    "Hacemos un gráfico de barras con los datos de la opinión de los usuarios."
   ]
  },
  {
   "cell_type": "code",
   "execution_count": null,
   "metadata": {},
   "outputs": [],
   "source": [
    "plt.bar(df_peliculas[\"Opinión (Xi)\"], df_peliculas[\"Cantidad de votantes(Ni)\"], color=\"green\")\n",
    "plt.title(\"Opiniones de los votantes\")\n",
    "plt.xlabel(\"Opinión (Xi))\")\n",
    "plt.ylabel(\"Cantidad de votantes (Ni)\")"
   ]
  },
  {
   "attachments": {},
   "cell_type": "markdown",
   "metadata": {},
   "source": [
    "Creamos una recta dándole los datos de la opinión de los usuarios y la cantidad de votantes."
   ]
  },
  {
   "cell_type": "code",
   "execution_count": null,
   "metadata": {},
   "outputs": [],
   "source": [
    "x_puntos = df_peliculas[\"Opinión (Xi)\"]\n",
    "y_puntos = df_peliculas[\"Cantidad de votantes(Ni)\"]\n",
    "\n",
    "plt.scatter(x_puntos, y_puntos, color=\"blue\")"
   ]
  },
  {
   "attachments": {},
   "cell_type": "markdown",
   "metadata": {},
   "source": [
    "Ahora vamos a hacer algunos cálculos que al mismo tiempo nos permitirán ver cómo utilizar la idea de frecuencia en los cálculos de media y de desviación típica."
   ]
  },
  {
   "attachments": {},
   "cell_type": "markdown",
   "metadata": {},
   "source": [
    " A fin de calcular la media de esta serie de observaciones, para cada observación hay que realizar el producto de las opiniones por la cantidad de votantes."
   ]
  },
  {
   "cell_type": "code",
   "execution_count": null,
   "metadata": {},
   "outputs": [],
   "source": [
    "df_peliculas[\"Xi*Ni\"] = df_peliculas[\"Opinión (Xi)\"] * df_peliculas[\"Cantidad de votantes(Ni)\"]\n",
    "df_peliculas"
   ]
  }
 ],
 "metadata": {
  "kernelspec": {
   "display_name": "base",
   "language": "python",
   "name": "python3"
  },
  "language_info": {
   "codemirror_mode": {
    "name": "ipython",
    "version": 3
   },
   "file_extension": ".py",
   "mimetype": "text/x-python",
   "name": "python",
   "nbconvert_exporter": "python",
   "pygments_lexer": "ipython3",
   "version": "3.9.13"
  },
  "orig_nbformat": 4
 },
 "nbformat": 4,
 "nbformat_minor": 2
}
