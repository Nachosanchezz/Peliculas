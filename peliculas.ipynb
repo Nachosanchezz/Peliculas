{
 "cells": [
  {
   "attachments": {},
   "cell_type": "markdown",
   "metadata": {},
   "source": [
    "Importamos las librerías necesarias."
   ]
  },
  {
   "cell_type": "code",
   "execution_count": 16,
   "metadata": {},
   "outputs": [
    {
     "name": "stdout",
     "output_type": "stream",
     "text": [
      "Se han importado las librerias necesarias\n"
     ]
    }
   ],
   "source": [
    "import pandas as pd\n",
    "import numpy as np\n",
    "import matplotlib.pyplot as plt\n",
    "import seaborn as sns\n",
    "print(\"Se han importado las librerias necesarias\")"
   ]
  },
  {
   "attachments": {},
   "cell_type": "markdown",
   "metadata": {},
   "source": [
    "Creamos el DataFrame, añadiendo los datos de opinión y la cantidad de votantes."
   ]
  },
  {
   "cell_type": "code",
   "execution_count": 17,
   "metadata": {},
   "outputs": [
    {
     "data": {
      "text/html": [
       "<div>\n",
       "<style scoped>\n",
       "    .dataframe tbody tr th:only-of-type {\n",
       "        vertical-align: middle;\n",
       "    }\n",
       "\n",
       "    .dataframe tbody tr th {\n",
       "        vertical-align: top;\n",
       "    }\n",
       "\n",
       "    .dataframe thead th {\n",
       "        text-align: right;\n",
       "    }\n",
       "</style>\n",
       "<table border=\"1\" class=\"dataframe\">\n",
       "  <thead>\n",
       "    <tr style=\"text-align: right;\">\n",
       "      <th></th>\n",
       "      <th>Opinión (Xi)</th>\n",
       "      <th>Cantidad de votantes(Ni)</th>\n",
       "    </tr>\n",
       "  </thead>\n",
       "  <tbody>\n",
       "    <tr>\n",
       "      <th>0</th>\n",
       "      <td>5</td>\n",
       "      <td>40</td>\n",
       "    </tr>\n",
       "    <tr>\n",
       "      <th>1</th>\n",
       "      <td>4</td>\n",
       "      <td>99</td>\n",
       "    </tr>\n",
       "    <tr>\n",
       "      <th>2</th>\n",
       "      <td>3</td>\n",
       "      <td>145</td>\n",
       "    </tr>\n",
       "    <tr>\n",
       "      <th>3</th>\n",
       "      <td>2</td>\n",
       "      <td>133</td>\n",
       "    </tr>\n",
       "    <tr>\n",
       "      <th>4</th>\n",
       "      <td>1</td>\n",
       "      <td>96</td>\n",
       "    </tr>\n",
       "  </tbody>\n",
       "</table>\n",
       "</div>"
      ],
      "text/plain": [
       "   Opinión (Xi)  Cantidad de votantes(Ni)\n",
       "0             5                        40\n",
       "1             4                        99\n",
       "2             3                       145\n",
       "3             2                       133\n",
       "4             1                        96"
      ]
     },
     "execution_count": 17,
     "metadata": {},
     "output_type": "execute_result"
    }
   ],
   "source": [
    "df_peliculas = pd.DataFrame({\"Opinión (Xi)\":np.array([5, 4, 3, 2, 1, 0]), \"Cantidad de votantes(Ni)\":np.array([40, 99, 145, 133, 96, 40])})   # Cada array es una columna.\n",
    "df_peliculas.head()    # El .head() para mostrar las primeras filas."
   ]
  },
  {
   "attachments": {},
   "cell_type": "markdown",
   "metadata": {},
   "source": [
    "Hacemos un gráfico de barras con los datos de la opinión de los usuarios. A continuación, hacemos una recta que forman los datos."
   ]
  },
  {
   "cell_type": "code",
   "execution_count": 18,
   "metadata": {},
   "outputs": [
    {
     "data": {
      "text/plain": [
       "Text(0, 0.5, 'Cantidad de votantes (Ni)')"
      ]
     },
     "execution_count": 18,
     "metadata": {},
     "output_type": "execute_result"
    },
    {
     "data": {
      "image/png": "[encoded data removed]",
      "text/plain": [
       "<Figure size 640x480 with 1 Axes>"
      ]
     },
     "metadata": {},
     "output_type": "display_data"
    }
   ],
   "source": [
    "plt.bar(df_peliculas[\"Opinión (Xi)\"], df_peliculas[\"Cantidad de votantes(Ni)\"], color=\"green\")\n",
    "plt.title(\"Opiniones de los votantes\")\n",
    "plt.xlabel(\"Opinión (Xi))\")\n",
    "plt.ylabel(\"Cantidad de votantes (Ni)\")\n",
    "x_puntos = df_peliculas[\"Opinión (Xi)\"]\n",
    "y_puntos = df_peliculas[\"Cantidad de votantes(Ni)\"]\n",
    "\n",
    "plt.plot(x_puntos, y_puntos, color=\"blue\")"
   ]
  },
  {
   "attachments": {},
   "cell_type": "markdown",
   "metadata": {},
   "source": [
    "Ahora vamos a hacer algunos cálculos que al mismo tiempo nos permitirán ver cómo utilizar la idea de frecuencia en los cálculos de media y de desviación típica."
   ]
  },
  {
   "attachments": {},
   "cell_type": "markdown",
   "metadata": {},
   "source": [
    " A fin de calcular la media de esta serie de observaciones, para cada observación hay que realizar el producto de las opiniones por la cantidad de votantes."
   ]
  },
  {
   "cell_type": "code",
   "execution_count": 20,
   "metadata": {},
   "outputs": [
    {
     "data": {
      "text/html": [
       "<div>\n",
       "<style scoped>\n",
       "    .dataframe tbody tr th:only-of-type {\n",
       "        vertical-align: middle;\n",
       "    }\n",
       "\n",
       "    .dataframe tbody tr th {\n",
       "        vertical-align: top;\n",
       "    }\n",
       "\n",
       "    .dataframe thead th {\n",
       "        text-align: right;\n",
       "    }\n",
       "</style>\n",
       "<table border=\"1\" class=\"dataframe\">\n",
       "  <thead>\n",
       "    <tr style=\"text-align: right;\">\n",
       "      <th></th>\n",
       "      <th>Opinión (Xi)</th>\n",
       "      <th>Cantidad de votantes(Ni)</th>\n",
       "      <th>Xi*Ni</th>\n",
       "    </tr>\n",
       "  </thead>\n",
       "  <tbody>\n",
       "    <tr>\n",
       "      <th>0</th>\n",
       "      <td>5</td>\n",
       "      <td>40</td>\n",
       "      <td>200</td>\n",
       "    </tr>\n",
       "    <tr>\n",
       "      <th>1</th>\n",
       "      <td>4</td>\n",
       "      <td>99</td>\n",
       "      <td>396</td>\n",
       "    </tr>\n",
       "    <tr>\n",
       "      <th>2</th>\n",
       "      <td>3</td>\n",
       "      <td>145</td>\n",
       "      <td>435</td>\n",
       "    </tr>\n",
       "    <tr>\n",
       "      <th>3</th>\n",
       "      <td>2</td>\n",
       "      <td>133</td>\n",
       "      <td>266</td>\n",
       "    </tr>\n",
       "    <tr>\n",
       "      <th>4</th>\n",
       "      <td>1</td>\n",
       "      <td>96</td>\n",
       "      <td>96</td>\n",
       "    </tr>\n",
       "    <tr>\n",
       "      <th>5</th>\n",
       "      <td>0</td>\n",
       "      <td>40</td>\n",
       "      <td>0</td>\n",
       "    </tr>\n",
       "  </tbody>\n",
       "</table>\n",
       "</div>"
      ],
      "text/plain": [
       "   Opinión (Xi)  Cantidad de votantes(Ni)  Xi*Ni\n",
       "0             5                        40    200\n",
       "1             4                        99    396\n",
       "2             3                       145    435\n",
       "3             2                       133    266\n",
       "4             1                        96     96\n",
       "5             0                        40      0"
      ]
     },
     "execution_count": 20,
     "metadata": {},
     "output_type": "execute_result"
    }
   ],
   "source": [
    "df_peliculas[\"Xi*Ni\"] = df_peliculas[\"Opinión (Xi)\"] * df_peliculas[\"Cantidad de votantes(Ni)\"]\n",
    "df_peliculas   # Muestra la tabla con la nueva columna."
   ]
  },
  {
   "attachments": {},
   "cell_type": "markdown",
   "metadata": {},
   "source": [
    "Hacemos el sumatorio del producto entre la opinión y la cantidad de votantes. A su vez, hacemos el sumatorio de las frecuencias (Ni). A continuación, dividimos el primer sumatorio entre el segundo para obtener la media."
   ]
  },
  {
   "cell_type": "code",
   "execution_count": 21,
   "metadata": {},
   "outputs": [],
   "source": [
    "sumatorio_producto = df_peliculas[\"Xi*Ni\"].sum()\n",
    "sumatorio_frecuencia = df_peliculas[\"Cantidad de votantes(Ni)\"].sum()\n",
    "media = round(sumatorio_producto / sumatorio_frecuencia,2)"
   ]
  },
  {
   "attachments": {},
   "cell_type": "markdown",
   "metadata": {},
   "source": [
    "Añadimos al DataFrame la varianza."
   ]
  },
  {
   "cell_type": "code",
   "execution_count": 22,
   "metadata": {},
   "outputs": [
    {
     "data": {
      "text/html": [
       "<div>\n",
       "<style scoped>\n",
       "    .dataframe tbody tr th:only-of-type {\n",
       "        vertical-align: middle;\n",
       "    }\n",
       "\n",
       "    .dataframe tbody tr th {\n",
       "        vertical-align: top;\n",
       "    }\n",
       "\n",
       "    .dataframe thead th {\n",
       "        text-align: right;\n",
       "    }\n",
       "</style>\n",
       "<table border=\"1\" class=\"dataframe\">\n",
       "  <thead>\n",
       "    <tr style=\"text-align: right;\">\n",
       "      <th></th>\n",
       "      <th>Opinión (Xi)</th>\n",
       "      <th>Cantidad de votantes(Ni)</th>\n",
       "      <th>Xi*Ni</th>\n",
       "      <th>Ni * ((Xi - media)^2)</th>\n",
       "    </tr>\n",
       "  </thead>\n",
       "  <tbody>\n",
       "    <tr>\n",
       "      <th>0</th>\n",
       "      <td>5</td>\n",
       "      <td>40</td>\n",
       "      <td>200</td>\n",
       "      <td>246.02</td>\n",
       "    </tr>\n",
       "    <tr>\n",
       "      <th>1</th>\n",
       "      <td>4</td>\n",
       "      <td>99</td>\n",
       "      <td>396</td>\n",
       "      <td>216.85</td>\n",
       "    </tr>\n",
       "    <tr>\n",
       "      <th>2</th>\n",
       "      <td>3</td>\n",
       "      <td>145</td>\n",
       "      <td>435</td>\n",
       "      <td>33.41</td>\n",
       "    </tr>\n",
       "    <tr>\n",
       "      <th>3</th>\n",
       "      <td>2</td>\n",
       "      <td>133</td>\n",
       "      <td>266</td>\n",
       "      <td>35.96</td>\n",
       "    </tr>\n",
       "    <tr>\n",
       "      <th>4</th>\n",
       "      <td>1</td>\n",
       "      <td>96</td>\n",
       "      <td>96</td>\n",
       "      <td>221.80</td>\n",
       "    </tr>\n",
       "    <tr>\n",
       "      <th>5</th>\n",
       "      <td>0</td>\n",
       "      <td>40</td>\n",
       "      <td>0</td>\n",
       "      <td>254.02</td>\n",
       "    </tr>\n",
       "  </tbody>\n",
       "</table>\n",
       "</div>"
      ],
      "text/plain": [
       "   Opinión (Xi)  Cantidad de votantes(Ni)  Xi*Ni  Ni * ((Xi - media)^2)\n",
       "0             5                        40    200                 246.02\n",
       "1             4                        99    396                 216.85\n",
       "2             3                       145    435                  33.41\n",
       "3             2                       133    266                  35.96\n",
       "4             1                        96     96                 221.80\n",
       "5             0                        40      0                 254.02"
      ]
     },
     "execution_count": 22,
     "metadata": {},
     "output_type": "execute_result"
    }
   ],
   "source": [
    "df_peliculas[\"Ni * ((Xi - media)^2)\"] = round(df_peliculas[\"Cantidad de votantes(Ni)\"] * ((df_peliculas[\"Opinión (Xi)\"] - media)**2),2)\n",
    "df_peliculas"
   ]
  },
  {
   "attachments": {},
   "cell_type": "markdown",
   "metadata": {},
   "source": [
    "Calculamos la varianza y calculamos la desviación típica."
   ]
  },
  {
   "cell_type": "code",
   "execution_count": 23,
   "metadata": {},
   "outputs": [
    {
     "name": "stdout",
     "output_type": "stream",
     "text": [
      "La varianza es:  1.82 y la desviación típica es:  1.35\n"
     ]
    }
   ],
   "source": [
    "sumatorio_varianza = df_peliculas[\"Ni * ((Xi - media)^2)\"].sum()\n",
    "varianza = round(sumatorio_varianza / sumatorio_frecuencia,2)\n",
    "desviacion_tipica = round(varianza**0.5,2)\n",
    "print(\"La varianza es: \", varianza, \"y la desviación típica es: \", desviacion_tipica)\n"
   ]
  },
  {
   "attachments": {},
   "cell_type": "markdown",
   "metadata": {},
   "source": [
    "Examinamos el reparto de observaciones en función de las desviaciones entre la media y la desviación típica que permite definir los 68 % de los repartos."
   ]
  },
  {
   "cell_type": "code",
   "execution_count": 29,
   "metadata": {},
   "outputs": [
    {
     "name": "stdout",
     "output_type": "stream",
     "text": [
      "El porcentaje de observaciones en el intervalo es:  50.27 %\n",
      "553\n",
      "278\n"
     ]
    }
   ],
   "source": [
    "limite_inferior = media - desviacion_tipica\n",
    "limite_superior = media + desviacion_tipica\n",
    "sumatorio_de_observaciones = df_peliculas[\"Cantidad de votantes(Ni)\"].sum()\n",
    "observaciones_en_intervalo = df_peliculas[(df_peliculas[\"Opinión (Xi)\"] >= limite_inferior) & (df_peliculas[\"Opinión (Xi)\"] <= limite_superior)]\n",
    "sumatorio_observaciones_en_intervalo = observaciones_en_intervalo[\"Cantidad de votantes(Ni)\"].sum()\n",
    "porcentaje_observaciones_en_intervalo = round((sumatorio_observaciones_en_intervalo / sumatorio_de_observaciones) * 100,2)\n",
    "print(\"El porcentaje de observaciones en el intervalo es: \", porcentaje_observaciones_en_intervalo, \"%\")\n",
    "print (sumatorio_de_observaciones)\n",
    "print (sumatorio_observaciones_en_intervalo)"
   ]
  }
 ],
 "metadata": {
  "kernelspec": {
   "display_name": "base",
   "language": "python",
   "name": "python3"
  },
  "language_info": {
   "codemirror_mode": {
    "name": "ipython",
    "version": 3
   },
   "file_extension": ".py",
   "mimetype": "text/x-python",
   "name": "python",
   "nbconvert_exporter": "python",
   "pygments_lexer": "ipython3",
   "version": "3.9.13"
  },
  "orig_nbformat": 4
 },
 "nbformat": 4,
 "nbformat_minor": 2
}
