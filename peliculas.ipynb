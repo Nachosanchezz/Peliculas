{
 "cells": [
  {
   "attachments": {},
   "cell_type": "markdown",
   "metadata": {},
   "source": [
    "Importamos las librerías necesarias."
   ]
  },
  {
   "cell_type": "code",
   "execution_count": 25,
   "metadata": {},
   "outputs": [
    {
     "name": "stdout",
     "output_type": "stream",
     "text": [
      "Se han importado las librerias necesarias\n"
     ]
    }
   ],
   "source": [
    "import pandas as pd\n",
    "import numpy as np\n",
    "import matplotlib.pyplot as plt\n",
    "import seaborn as sns\n",
    "print(\"Se han importado las librerias necesarias\")"
   ]
  },
  {
   "attachments": {},
   "cell_type": "markdown",
   "metadata": {},
   "source": [
    "Creamos el DataFrame, añadiendo los datos de opinión y la cantidad de votantes."
   ]
  },
  {
   "cell_type": "code",
   "execution_count": 26,
   "metadata": {},
   "outputs": [
    {
     "data": {
      "text/html": [
       "<div>\n",
       "<style scoped>\n",
       "    .dataframe tbody tr th:only-of-type {\n",
       "        vertical-align: middle;\n",
       "    }\n",
       "\n",
       "    .dataframe tbody tr th {\n",
       "        vertical-align: top;\n",
       "    }\n",
       "\n",
       "    .dataframe thead th {\n",
       "        text-align: right;\n",
       "    }\n",
       "</style>\n",
       "<table border=\"1\" class=\"dataframe\">\n",
       "  <thead>\n",
       "    <tr style=\"text-align: right;\">\n",
       "      <th></th>\n",
       "      <th>Opinión (Xi)</th>\n",
       "      <th>Cantidad de votantes(Ni)</th>\n",
       "    </tr>\n",
       "  </thead>\n",
       "  <tbody>\n",
       "    <tr>\n",
       "      <th>0</th>\n",
       "      <td>5</td>\n",
       "      <td>40</td>\n",
       "    </tr>\n",
       "    <tr>\n",
       "      <th>1</th>\n",
       "      <td>4</td>\n",
       "      <td>99</td>\n",
       "    </tr>\n",
       "    <tr>\n",
       "      <th>2</th>\n",
       "      <td>3</td>\n",
       "      <td>145</td>\n",
       "    </tr>\n",
       "    <tr>\n",
       "      <th>3</th>\n",
       "      <td>2</td>\n",
       "      <td>133</td>\n",
       "    </tr>\n",
       "    <tr>\n",
       "      <th>4</th>\n",
       "      <td>1</td>\n",
       "      <td>96</td>\n",
       "    </tr>\n",
       "  </tbody>\n",
       "</table>\n",
       "</div>"
      ],
      "text/plain": [
       "   Opinión (Xi)  Cantidad de votantes(Ni)\n",
       "0             5                        40\n",
       "1             4                        99\n",
       "2             3                       145\n",
       "3             2                       133\n",
       "4             1                        96"
      ]
     },
     "execution_count": 26,
     "metadata": {},
     "output_type": "execute_result"
    }
   ],
   "source": [
    "df_peliculas = pd.DataFrame({\"Opinión (Xi)\":np.array([5, 4, 3, 2, 1, 0]), \"Cantidad de votantes(Ni)\":np.array([40, 99, 145, 133, 96, 40])})   # Cada array es una columna.\n",
    "df_peliculas.head()    # El .head() para mostrar las primeras filas."
   ]
  },
  {
   "attachments": {},
   "cell_type": "markdown",
   "metadata": {},
   "source": [
    "Hacemos un gráfico de barras con los datos de la opinión de los usuarios. A continuación, hacemos una recta que forman los datos."
   ]
  },
  {
   "cell_type": "code",
   "execution_count": 27,
   "metadata": {},
   "outputs": [
    {
     "data": {
      "text/plain": [
       "[<matplotlib.lines.Line2D at 0x1d8390aeaf0>]"
      ]
     },
     "execution_count": 27,
     "metadata": {},
     "output_type": "execute_result"
    },
    {
     "data": {
      "image/png": "[encoded data removed]",
      "text/plain": [
       "<Figure size 640x480 with 1 Axes>"
      ]
     },
     "metadata": {},
     "output_type": "display_data"
    }
   ],
   "source": [
    "plt.bar(df_peliculas[\"Opinión (Xi)\"], df_peliculas[\"Cantidad de votantes(Ni)\"], color=\"green\")\n",
    "plt.title(\"Opiniones de los votantes\")\n",
    "plt.xlabel(\"Opinión (Xi))\")\n",
    "plt.ylabel(\"Cantidad de votantes (Ni)\")\n",
    "\n",
    "# Recta\n",
    "x_puntos = df_peliculas[\"Opinión (Xi)\"]\n",
    "y_puntos = df_peliculas[\"Cantidad de votantes(Ni)\"]\n",
    "\n",
    "plt.plot(x_puntos, y_puntos, color=\"blue\")"
   ]
  },
  {
   "attachments": {},
   "cell_type": "markdown",
   "metadata": {},
   "source": [
    "Ahora vamos a hacer algunos cálculos que al mismo tiempo nos permitirán ver cómo utilizar la idea de frecuencia en los cálculos de media y de desviación típica."
   ]
  },
  {
   "attachments": {},
   "cell_type": "markdown",
   "metadata": {},
   "source": [
    " A fin de calcular la media de esta serie de observaciones, para cada observación hay que realizar el producto de las opiniones por la cantidad de votantes."
   ]
  },
  {
   "cell_type": "code",
   "execution_count": 28,
   "metadata": {},
   "outputs": [
    {
     "data": {
      "text/html": [
       "<div>\n",
       "<style scoped>\n",
       "    .dataframe tbody tr th:only-of-type {\n",
       "        vertical-align: middle;\n",
       "    }\n",
       "\n",
       "    .dataframe tbody tr th {\n",
       "        vertical-align: top;\n",
       "    }\n",
       "\n",
       "    .dataframe thead th {\n",
       "        text-align: right;\n",
       "    }\n",
       "</style>\n",
       "<table border=\"1\" class=\"dataframe\">\n",
       "  <thead>\n",
       "    <tr style=\"text-align: right;\">\n",
       "      <th></th>\n",
       "      <th>Opinión (Xi)</th>\n",
       "      <th>Cantidad de votantes(Ni)</th>\n",
       "      <th>Xi*Ni</th>\n",
       "    </tr>\n",
       "  </thead>\n",
       "  <tbody>\n",
       "    <tr>\n",
       "      <th>0</th>\n",
       "      <td>5</td>\n",
       "      <td>40</td>\n",
       "      <td>200</td>\n",
       "    </tr>\n",
       "    <tr>\n",
       "      <th>1</th>\n",
       "      <td>4</td>\n",
       "      <td>99</td>\n",
       "      <td>396</td>\n",
       "    </tr>\n",
       "    <tr>\n",
       "      <th>2</th>\n",
       "      <td>3</td>\n",
       "      <td>145</td>\n",
       "      <td>435</td>\n",
       "    </tr>\n",
       "    <tr>\n",
       "      <th>3</th>\n",
       "      <td>2</td>\n",
       "      <td>133</td>\n",
       "      <td>266</td>\n",
       "    </tr>\n",
       "    <tr>\n",
       "      <th>4</th>\n",
       "      <td>1</td>\n",
       "      <td>96</td>\n",
       "      <td>96</td>\n",
       "    </tr>\n",
       "    <tr>\n",
       "      <th>5</th>\n",
       "      <td>0</td>\n",
       "      <td>40</td>\n",
       "      <td>0</td>\n",
       "    </tr>\n",
       "  </tbody>\n",
       "</table>\n",
       "</div>"
      ],
      "text/plain": [
       "   Opinión (Xi)  Cantidad de votantes(Ni)  Xi*Ni\n",
       "0             5                        40    200\n",
       "1             4                        99    396\n",
       "2             3                       145    435\n",
       "3             2                       133    266\n",
       "4             1                        96     96\n",
       "5             0                        40      0"
      ]
     },
     "execution_count": 28,
     "metadata": {},
     "output_type": "execute_result"
    }
   ],
   "source": [
    "df_peliculas[\"Xi*Ni\"] = df_peliculas[\"Opinión (Xi)\"] * df_peliculas[\"Cantidad de votantes(Ni)\"]\n",
    "df_peliculas   # Muestra la tabla con la nueva columna."
   ]
  },
  {
   "attachments": {},
   "cell_type": "markdown",
   "metadata": {},
   "source": [
    "Hacemos el sumatorio del producto entre la opinión y la cantidad de votantes. A su vez, hacemos el sumatorio de las frecuencias (Ni). A continuación, dividimos el primer sumatorio entre el segundo para obtener la media."
   ]
  },
  {
   "cell_type": "code",
   "execution_count": 38,
   "metadata": {},
   "outputs": [
    {
     "name": "stdout",
     "output_type": "stream",
     "text": [
      "La media es:  2.52\n"
     ]
    }
   ],
   "source": [
    "sumatorio_producto = df_peliculas[\"Xi*Ni\"].sum()\n",
    "sumatorio_frecuencia = df_peliculas[\"Cantidad de votantes(Ni)\"].sum()\n",
    "media = round(sumatorio_producto / sumatorio_frecuencia,2)\n",
    "print(\"La media es: \", media)"
   ]
  },
  {
   "attachments": {},
   "cell_type": "markdown",
   "metadata": {},
   "source": [
    "Añadimos al DataFrame la varianza."
   ]
  },
  {
   "cell_type": "code",
   "execution_count": 30,
   "metadata": {},
   "outputs": [
    {
     "data": {
      "text/html": [
       "<div>\n",
       "<style scoped>\n",
       "    .dataframe tbody tr th:only-of-type {\n",
       "        vertical-align: middle;\n",
       "    }\n",
       "\n",
       "    .dataframe tbody tr th {\n",
       "        vertical-align: top;\n",
       "    }\n",
       "\n",
       "    .dataframe thead th {\n",
       "        text-align: right;\n",
       "    }\n",
       "</style>\n",
       "<table border=\"1\" class=\"dataframe\">\n",
       "  <thead>\n",
       "    <tr style=\"text-align: right;\">\n",
       "      <th></th>\n",
       "      <th>Opinión (Xi)</th>\n",
       "      <th>Cantidad de votantes(Ni)</th>\n",
       "      <th>Xi*Ni</th>\n",
       "      <th>Ni * ((Xi - media)^2)</th>\n",
       "    </tr>\n",
       "  </thead>\n",
       "  <tbody>\n",
       "    <tr>\n",
       "      <th>0</th>\n",
       "      <td>5</td>\n",
       "      <td>40</td>\n",
       "      <td>200</td>\n",
       "      <td>246.02</td>\n",
       "    </tr>\n",
       "    <tr>\n",
       "      <th>1</th>\n",
       "      <td>4</td>\n",
       "      <td>99</td>\n",
       "      <td>396</td>\n",
       "      <td>216.85</td>\n",
       "    </tr>\n",
       "    <tr>\n",
       "      <th>2</th>\n",
       "      <td>3</td>\n",
       "      <td>145</td>\n",
       "      <td>435</td>\n",
       "      <td>33.41</td>\n",
       "    </tr>\n",
       "    <tr>\n",
       "      <th>3</th>\n",
       "      <td>2</td>\n",
       "      <td>133</td>\n",
       "      <td>266</td>\n",
       "      <td>35.96</td>\n",
       "    </tr>\n",
       "    <tr>\n",
       "      <th>4</th>\n",
       "      <td>1</td>\n",
       "      <td>96</td>\n",
       "      <td>96</td>\n",
       "      <td>221.80</td>\n",
       "    </tr>\n",
       "    <tr>\n",
       "      <th>5</th>\n",
       "      <td>0</td>\n",
       "      <td>40</td>\n",
       "      <td>0</td>\n",
       "      <td>254.02</td>\n",
       "    </tr>\n",
       "  </tbody>\n",
       "</table>\n",
       "</div>"
      ],
      "text/plain": [
       "   Opinión (Xi)  Cantidad de votantes(Ni)  Xi*Ni  Ni * ((Xi - media)^2)\n",
       "0             5                        40    200                 246.02\n",
       "1             4                        99    396                 216.85\n",
       "2             3                       145    435                  33.41\n",
       "3             2                       133    266                  35.96\n",
       "4             1                        96     96                 221.80\n",
       "5             0                        40      0                 254.02"
      ]
     },
     "execution_count": 30,
     "metadata": {},
     "output_type": "execute_result"
    }
   ],
   "source": [
    "df_peliculas[\"Ni * ((Xi - media)^2)\"] = round(df_peliculas[\"Cantidad de votantes(Ni)\"] * ((df_peliculas[\"Opinión (Xi)\"] - media)**2),2)\n",
    "df_peliculas"
   ]
  },
  {
   "attachments": {},
   "cell_type": "markdown",
   "metadata": {},
   "source": [
    "Calculamos la varianza y calculamos la desviación típica."
   ]
  },
  {
   "cell_type": "code",
   "execution_count": 31,
   "metadata": {},
   "outputs": [
    {
     "name": "stdout",
     "output_type": "stream",
     "text": [
      "La varianza es:  1.82 y la desviación típica es:  1.35\n"
     ]
    }
   ],
   "source": [
    "sumatorio_varianza = df_peliculas[\"Ni * ((Xi - media)^2)\"].sum()\n",
    "varianza = round(sumatorio_varianza / sumatorio_frecuencia,2)\n",
    "desviacion_tipica = round(varianza**0.5,2)\n",
    "print(\"La varianza es: \", varianza, \"y la desviación típica es: \", desviacion_tipica)\n"
   ]
  },
  {
   "attachments": {},
   "cell_type": "markdown",
   "metadata": {},
   "source": [
    "Examinamos el reparto de observaciones en función de las desviaciones entre la media y la desviación típica que permite definir los 68 % de los repartos."
   ]
  },
  {
   "cell_type": "code",
   "execution_count": 34,
   "metadata": {},
   "outputs": [],
   "source": [
    "porcentaje = 0.68\n",
    "limite_inferior_68 = int(media - desviacion_tipica)\n",
    "limite_superior_68 = int(media + desviacion_tipica)\n",
    "sumatorio_de_observaciones = df_peliculas[\"Cantidad de votantes(Ni)\"].sum()\n",
    "observaciones_en_intervalo = df_peliculas[(df_peliculas[\"Opinión (Xi)\"] >= limite_inferior) & (df_peliculas[\"Opinión (Xi)\"] <= limite_superior)]\n",
    "sumatorio_observaciones_en_intervalo = observaciones_en_intervalo[\"Cantidad de votantes(Ni)\"].sum()\n",
    "porcentaje_observaciones_en_intervalo = round((sumatorio_observaciones_en_intervalo / sumatorio_de_observaciones) * 100,2)\n"
   ]
  },
  {
   "cell_type": "code",
   "execution_count": 35,
   "metadata": {},
   "outputs": [
    {
     "name": "stdout",
     "output_type": "stream",
     "text": [
      "--------------------Resultados--------------------\n",
      "El intervalo de confianza del 68.0 % es:  1  -  3\n",
      "Cantidad de observaciones totales:  553\n",
      "Cantidad de observaciones en el intervalo:  374\n",
      "El porcentaje de observaciones en el intervalo es:  67.63 %\n"
     ]
    }
   ],
   "source": [
    "print('--------------------Resultados--------------------')\n",
    "print('El intervalo de confianza del', porcentaje * 100, '% es: ', round(limite_inferior_68, 2), ' - ', round(limite_superior_68, 2))\n",
    "print('Cantidad de observaciones totales: ', sumatorio_de_observaciones)\n",
    "print('Cantidad de observaciones en el intervalo: ', sumatorio_observaciones_en_intervalo)\n",
    "print(\"El porcentaje de observaciones en el intervalo es: \", porcentaje_observaciones_en_intervalo, \"%\")"
   ]
  },
  {
   "attachments": {},
   "cell_type": "markdown",
   "metadata": {},
   "source": [
    "Ahora examinamos el 95% de los repartos."
   ]
  },
  {
   "cell_type": "code",
   "execution_count": 39,
   "metadata": {},
   "outputs": [],
   "source": [
    "porcentaje_2 = 0.95\n",
    "limite_inferior_95 = int(media - (2 * desviacion_tipica))\n",
    "limite_superior_95 = int(media + (2 * desviacion_tipica))\n",
    "observaciones_en_intervalo_95 = df_peliculas[(df_peliculas[\"Opinión (Xi)\"] >= limite_inferior_95) & (df_peliculas[\"Opinión (Xi)\"] <= limite_superior_95)]\n",
    "sumatorio_observaciones_en_intervalo_95 = observaciones_en_intervalo_95[\"Cantidad de votantes(Ni)\"].sum()\n",
    "porcentaje_observaciones_en_intervalo_95 = round((sumatorio_observaciones_en_intervalo_95 / sumatorio_de_observaciones) * 100,2)"
   ]
  },
  {
   "cell_type": "code",
   "execution_count": 40,
   "metadata": {},
   "outputs": [
    {
     "name": "stdout",
     "output_type": "stream",
     "text": [
      "--------------------Resultados--------------------\n",
      "El intervalo de confianza del 95.0 % es:  0  -  5\n",
      "Cantidad de observaciones totales:  553\n",
      "Cantidad de observaciones en el intervalo:  553\n",
      "El porcentaje de observaciones en el intervalo es:  100.0 %\n"
     ]
    }
   ],
   "source": [
    "print('--------------------Resultados--------------------')\n",
    "print('El intervalo de confianza del', porcentaje_2 * 100, '% es: ', round(limite_inferior_95, 2), ' - ', round(limite_superior_95, 2))\n",
    "print('Cantidad de observaciones totales: ', sumatorio_de_observaciones)\n",
    "print('Cantidad de observaciones en el intervalo: ', sumatorio_observaciones_en_intervalo_95)\n",
    "print(\"El porcentaje de observaciones en el intervalo es: \", porcentaje_observaciones_en_intervalo_95, \"%\")\n"
   ]
  },
  {
   "attachments": {},
   "cell_type": "markdown",
   "metadata": {},
   "source": [
    "Ahora vamos con el 97% de los repartos."
   ]
  },
  {
   "cell_type": "code",
   "execution_count": 41,
   "metadata": {},
   "outputs": [],
   "source": [
    "porcentaje_3 = 0.97\n",
    "limite_inferior_97 = int(media - 3 * desviacion_tipica)\n",
    "limite_superior_97 = int(media + 3 * desviacion_tipica)\n",
    "\n",
    "observaciones_en_intervalo_97 = df_peliculas[(df_peliculas[\"Opinión (Xi)\"] >= limite_inferior_97) & (df_peliculas[\"Opinión (Xi)\"] <= limite_superior_97)]\n",
    "sumatorio_observaciones_en_intervalo_97 = observaciones_en_intervalo_97[\"Cantidad de votantes(Ni)\"].sum()\n",
    "porcentaje_observaciones_en_intervalo_97 = round((sumatorio_observaciones_en_intervalo_97 / sumatorio_de_observaciones) * 100, 2)\n"
   ]
  },
  {
   "cell_type": "code",
   "execution_count": 42,
   "metadata": {},
   "outputs": [
    {
     "name": "stdout",
     "output_type": "stream",
     "text": [
      "--------------------Resultados--------------------\n",
      "El intervalo de confianza del 97.0 % es:  -1  -  6\n",
      "Cantidad de observaciones totales:  553\n",
      "Cantidad de observaciones en el intervalo:  553\n",
      "El porcentaje de observaciones en el intervalo es:  100.0 %\n"
     ]
    }
   ],
   "source": [
    "print('--------------------Resultados--------------------')\n",
    "print('El intervalo de confianza del', porcentaje_3 * 100, '% es: ', round(limite_inferior_97, 2), ' - ', round(limite_superior_97, 2))\n",
    "print('Cantidad de observaciones totales: ', sumatorio_de_observaciones)\n",
    "print('Cantidad de observaciones en el intervalo: ', sumatorio_observaciones_en_intervalo_97)\n",
    "print(\"El porcentaje de observaciones en el intervalo es: \", porcentaje_observaciones_en_intervalo_97, \"%\")\n",
    "\n",
    "\n",
    "\n"
   ]
  }
 ],
 "metadata": {
  "kernelspec": {
   "display_name": "base",
   "language": "python",
   "name": "python3"
  },
  "language_info": {
   "codemirror_mode": {
    "name": "ipython",
    "version": 3
   },
   "file_extension": ".py",
   "mimetype": "text/x-python",
   "name": "python",
   "nbconvert_exporter": "python",
   "pygments_lexer": "ipython3",
   "version": "3.9.13"
  },
  "orig_nbformat": 4
 },
 "nbformat": 4,
 "nbformat_minor": 2
}
